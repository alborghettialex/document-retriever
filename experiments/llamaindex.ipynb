{
 "cells": [
  {
   "cell_type": "markdown",
   "id": "3b43e87c",
   "metadata": {},
   "source": [
    "# Experiments with llamaindex framework"
   ]
  },
  {
   "cell_type": "markdown",
   "id": "72fe8744",
   "metadata": {},
   "source": [
    "Useful for production: https://docs.llamaindex.ai/en/stable/examples/embeddings/openvino/"
   ]
  },
  {
   "cell_type": "code",
   "execution_count": 1,
   "id": "38acec63",
   "metadata": {},
   "outputs": [
    {
     "name": "stderr",
     "output_type": "stream",
     "text": [
      "/home/alex/Desktop/document-retriever/.venv/lib/python3.10/site-packages/tqdm/auto.py:21: TqdmWarning: IProgress not found. Please update jupyter and ipywidgets. See https://ipywidgets.readthedocs.io/en/stable/user_install.html\n",
      "  from .autonotebook import tqdm as notebook_tqdm\n"
     ]
    }
   ],
   "source": [
    "from llama_index.embeddings.huggingface import HuggingFaceEmbedding\n",
    "\n",
    "MODEL_NAME = \"intfloat/multilingual-e5-small\"\n",
    "embedding_model = HuggingFaceEmbedding(model_name=MODEL_NAME)"
   ]
  },
  {
   "cell_type": "markdown",
   "id": "41d83f88",
   "metadata": {},
   "source": [
    "## Testing sentence similarity"
   ]
  },
  {
   "cell_type": "markdown",
   "id": "55f87512",
   "metadata": {},
   "source": [
    "### Get text embedding"
   ]
  },
  {
   "cell_type": "code",
   "execution_count": 2,
   "id": "6f1ee78e",
   "metadata": {},
   "outputs": [
    {
     "name": "stderr",
     "output_type": "stream",
     "text": [
      "/home/alex/Desktop/document-retriever/.venv/lib/python3.10/site-packages/torch/nn/modules/module.py:1762: FutureWarning: `encoder_attention_mask` is deprecated and will be removed in version 4.55.0 for `BertSdpaSelfAttention.forward`.\n",
      "  return forward_call(*args, **kwargs)\n"
     ]
    },
    {
     "data": {
      "text/plain": [
       "(list, 384)"
      ]
     },
     "execution_count": 2,
     "metadata": {},
     "output_type": "execute_result"
    }
   ],
   "source": [
    "text = \"Hi!\"\n",
    "emb = embedding_model.get_text_embedding(text)\n",
    "type(emb), len(emb)"
   ]
  },
  {
   "cell_type": "markdown",
   "id": "dff7622a",
   "metadata": {},
   "source": [
    "### Multilingual sentence similarity"
   ]
  },
  {
   "cell_type": "markdown",
   "id": "b1c9dda4",
   "metadata": {},
   "source": [
    "#### Mock query and documents"
   ]
  },
  {
   "cell_type": "code",
   "execution_count": 3,
   "id": "babeccf9",
   "metadata": {},
   "outputs": [],
   "source": [
    "query = \"What are the benefits of regular physical activity on mental health?\"\n",
    "\n",
    "documents = [\n",
    "    \"La actividad física regular ayuda a reducir los síntomas de ansiedad y depresión, mejorando el estado de ánimo gracias a la liberación de endorfinas.\",  # Regular physical activity helps reduce symptoms of anxiety and depression, improving mood thanks to the release of endorphins.\n",
    "    \"Die industrielle Revolution hatte erhebliche Auswirkungen auf die Urbanisierung und die Massenproduktion.\",  # The industrial revolution had significant impacts on urbanization and mass production.\n",
    "    \"Les principales attractions touristiques de Rome incluent le Colisée, le Vatican et la Piazza Navona.\",  # The main tourist attractions in Rome include the Colosseum, the Vatican, and Piazza Navona.\n",
    "    \"Photosynthesis is the process by which plants convert solar energy into chemical energy.\",  # Photosynthesis is the process by which plants convert solar energy into chemical energy.\n",
    "    \"L'attività culturale svolge un ruolo importante nello sviluppo personale e sociale.\",  # Cultural activities play an important role in personal and social development.\n",
    "    \"日常の散歩は健康維持に非常に効果的です。\",  # Daily walking is very effective for maintaining health.\n",
    "    \"La revolución tecnológica ha cambiado la forma en que vivimos y trabajamos.\",  # The technological revolution has changed the way we live and work.\n",
    "    \"Das italienische Rechtssystem sieht drei Instanzen vor.\",  # The Italian legal system provides for three levels of jurisdiction.\n",
    "    \"Le sport améliore souvent la concentration et la discipline.\",  # Sports often improve concentration and discipline.\n",
    "    \"健康的な食生活は長寿に寄与します。\",  # A healthy diet contributes to longevity.\n",
    "]\n",
    "\n"
   ]
  },
  {
   "cell_type": "markdown",
   "id": "ba7e96c7",
   "metadata": {},
   "source": [
    "#### Calculate embeddings"
   ]
  },
  {
   "cell_type": "code",
   "execution_count": 4,
   "id": "1465e8ac",
   "metadata": {},
   "outputs": [],
   "source": [
    "import torch\n",
    "\n",
    "def tt(li: list) -> torch.tensor:\n",
    "    \"\"\"\n",
    "    Converts a list to a torch.tensor\n",
    "    \"\"\"\n",
    "    return torch.tensor(li)\n",
    "\n",
    "query_emb = tt(embedding_model.get_text_embedding(query))\n",
    "docs_emb = tt(embedding_model.get_text_embedding_batch(documents))"
   ]
  },
  {
   "cell_type": "markdown",
   "id": "49f7f492",
   "metadata": {},
   "source": [
    "#### Retrieve the most similar document"
   ]
  },
  {
   "cell_type": "code",
   "execution_count": 5,
   "id": "6224aa4d",
   "metadata": {},
   "outputs": [],
   "source": [
    "scores = torch.matmul(query_emb, docs_emb.T)\n",
    "max_score, max_idx = scores.max(dim = 0)"
   ]
  },
  {
   "cell_type": "code",
   "execution_count": 6,
   "id": "7d7b054e",
   "metadata": {},
   "outputs": [
    {
     "data": {
      "text/plain": [
       "'La actividad física regular ayuda a reducir los síntomas de ansiedad y depresión, mejorando el estado de ánimo gracias a la liberación de endorfinas.'"
      ]
     },
     "execution_count": 6,
     "metadata": {},
     "output_type": "execute_result"
    }
   ],
   "source": [
    "documents[max_idx]"
   ]
  },
  {
   "cell_type": "markdown",
   "id": "d3e74a6d",
   "metadata": {},
   "source": [
    "## FAISS Vector Store"
   ]
  },
  {
   "cell_type": "markdown",
   "id": "40b5c359",
   "metadata": {},
   "source": [
    "### Create a FAISS index"
   ]
  },
  {
   "cell_type": "code",
   "execution_count": 7,
   "id": "156ad829",
   "metadata": {},
   "outputs": [],
   "source": [
    "import faiss\n",
    "d = query_emb.shape[0]\n",
    "faiss_index = faiss.IndexFlatL2(d)"
   ]
  },
  {
   "cell_type": "markdown",
   "id": "6aa8ac02",
   "metadata": {},
   "source": [
    "### Create the Vector Store"
   ]
  },
  {
   "cell_type": "code",
   "execution_count": 8,
   "id": "d09c49a7",
   "metadata": {},
   "outputs": [],
   "source": [
    "from llama_index.core import (\n",
    "    Document,\n",
    "    load_index_from_storage,\n",
    "    VectorStoreIndex,\n",
    "    StorageContext,\n",
    ")\n",
    "from llama_index.vector_stores.faiss import FaissVectorStore\n",
    "from IPython.display import Markdown, display"
   ]
  },
  {
   "cell_type": "markdown",
   "id": "4fa3b74b",
   "metadata": {},
   "source": [
    "### Create documents to load"
   ]
  },
  {
   "cell_type": "code",
   "execution_count": 9,
   "id": "3f9f3dd4",
   "metadata": {},
   "outputs": [],
   "source": [
    "documents_to_load = []\n",
    "for doc in documents:\n",
    "    documents_to_load.append(Document(text=doc))"
   ]
  },
  {
   "cell_type": "code",
   "execution_count": 10,
   "id": "80ee55fe",
   "metadata": {},
   "outputs": [
    {
     "data": {
      "text/plain": [
       "Document(id_='8355c554-1183-44b2-bf87-95e8e2e5fef4', embedding=None, metadata={}, excluded_embed_metadata_keys=[], excluded_llm_metadata_keys=[], relationships={}, metadata_template='{key}: {value}', metadata_separator='\\n', text_resource=MediaResource(embeddings=None, data=None, text='La actividad física regular ayuda a reducir los síntomas de ansiedad y depresión, mejorando el estado de ánimo gracias a la liberación de endorfinas.', path=None, url=None, mimetype=None), image_resource=None, audio_resource=None, video_resource=None, text_template='{metadata_str}\\n\\n{content}')"
      ]
     },
     "execution_count": 10,
     "metadata": {},
     "output_type": "execute_result"
    }
   ],
   "source": [
    "documents_to_load[0]"
   ]
  },
  {
   "cell_type": "markdown",
   "id": "ab7b8d72",
   "metadata": {},
   "source": [
    "### Create FAISS vector store from documents"
   ]
  },
  {
   "cell_type": "code",
   "execution_count": null,
   "id": "d767edd0",
   "metadata": {},
   "outputs": [],
   "source": [
    "vector_store = FaissVectorStore(faiss_index=faiss_index)\n",
    "storage_context = StorageContext.from_defaults(vector_store=vector_store)\n",
    "index = VectorStoreIndex.from_documents(\n",
    "    documents_to_load, storage_context=storage_context, embed_model=embedding_model\n",
    ")"
   ]
  },
  {
   "cell_type": "markdown",
   "id": "c554120a",
   "metadata": {},
   "source": [
    "### Retrieve"
   ]
  },
  {
   "cell_type": "code",
   "execution_count": 22,
   "id": "492b3b7d",
   "metadata": {},
   "outputs": [
    {
     "name": "stderr",
     "output_type": "stream",
     "text": [
      "/home/alex/Desktop/document-retriever/.venv/lib/python3.10/site-packages/torch/nn/modules/module.py:1762: FutureWarning: `encoder_attention_mask` is deprecated and will be removed in version 4.55.0 for `BertSdpaSelfAttention.forward`.\n",
      "  return forward_call(*args, **kwargs)\n"
     ]
    },
    {
     "data": {
      "text/plain": [
       "'La actividad física regular ayuda a reducir los síntomas de ansiedad y depresión, mejorando el estado de ánimo gracias a la liberación de endorfinas.'"
      ]
     },
     "execution_count": 22,
     "metadata": {},
     "output_type": "execute_result"
    }
   ],
   "source": [
    "engine = index.as_retriever(similarity_top_k=1)\n",
    "engine.retrieve(query)[0].text"
   ]
  }
 ],
 "metadata": {
  "kernelspec": {
   "display_name": "document-retriever",
   "language": "python",
   "name": "python3"
  },
  "language_info": {
   "codemirror_mode": {
    "name": "ipython",
    "version": 3
   },
   "file_extension": ".py",
   "mimetype": "text/x-python",
   "name": "python",
   "nbconvert_exporter": "python",
   "pygments_lexer": "ipython3",
   "version": "3.10.12"
  }
 },
 "nbformat": 4,
 "nbformat_minor": 5
}
