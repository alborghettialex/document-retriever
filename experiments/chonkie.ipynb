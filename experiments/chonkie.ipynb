{
 "cells": [
  {
   "cell_type": "markdown",
   "id": "0f94318a",
   "metadata": {},
   "source": [
    "# Try chonkie for text chunking"
   ]
  },
  {
   "cell_type": "code",
   "execution_count": 1,
   "id": "6029f531",
   "metadata": {},
   "outputs": [],
   "source": [
    "sample_text = \"\"\"\n",
    "Rabbits are small mammals known for their long ears, fluffy tails, and strong hind legs. They belong to the family Leporidae and are found in many parts of the world. Rabbits are herbivores, feeding mainly on grasses, leaves, and vegetables. Their diet is rich in fiber, which helps maintain their digestive health.\n",
    "In the wild, rabbits live in burrows called warrens, which provide protection from predators and harsh weather. These social animals communicate through various vocalizations, body language, and scent marking. Rabbits are also known for their impressive reproductive abilities; a female rabbit, called a doe, can give birth to several litters each year.\n",
    "Domesticated rabbits have become popular pets due to their gentle nature and ease of care. They require a balanced diet, regular exercise, and social interaction to thrive. Grooming is important to prevent matting, especially in long-haired breeds. Owners should also provide safe environments free from hazards.\n",
    "Rabbits play an important role in ecosystems as prey for many predators, including foxes, hawks, and owls. They also contribute to soil health through their digging activities, which aerate the soil and help with plant growth. In some regions, however, introduced rabbit populations have become invasive, causing damage to crops and native vegetation.\n",
    "Interestingly, rabbits have a unique digestive system that allows them to reingest certain types of droppings, called cecotropes, to extract additional nutrients. This behavior, known as coprophagy, is essential for their health.\n",
    "Overall, rabbits are fascinating creatures with complex behaviors and adaptations that have allowed them to thrive in diverse environments.\n",
    "\"\"\""
   ]
  },
  {
   "cell_type": "code",
   "execution_count": 2,
   "id": "9a013b61",
   "metadata": {},
   "outputs": [
    {
     "data": {
      "text/plain": [
       "[Chunk(text='\n",
       " Rabbits are small mammals known for their long ears, fluffy tai', token_count=64, start_index=0, end_index=64),\n",
       " Chunk(text='uffy tails, and strong hind legs. They belong to the family Lepo', token_count=64, start_index=56, end_index=120),\n",
       " Chunk(text='ily Leporidae and are found in many parts of the world. Rabbits ', token_count=64, start_index=112, end_index=176),\n",
       " Chunk(text='Rabbits are herbivores, feeding mainly on grasses, leaves, and v', token_count=64, start_index=168, end_index=232),\n",
       " Chunk(text='s, and vegetables. Their diet is rich in fiber, which helps main', token_count=64, start_index=224, end_index=288),\n",
       " Chunk(text='lps maintain their digestive health.\n",
       " In the wild, rabbits live i', token_count=64, start_index=280, end_index=344),\n",
       " Chunk(text='s live in burrows called warrens, which provide protection from ', token_count=64, start_index=336, end_index=400),\n",
       " Chunk(text='on from predators and harsh weather. These social animals commun', token_count=64, start_index=392, end_index=456),\n",
       " Chunk(text='s communicate through various vocalizations, body language, and ', token_count=64, start_index=448, end_index=512),\n",
       " Chunk(text='ge, and scent marking. Rabbits are also known for their impressi', token_count=64, start_index=504, end_index=568),\n",
       " Chunk(text='impressive reproductive abilities; a female rabbit, called a doe', token_count=64, start_index=560, end_index=624),\n",
       " Chunk(text='ed a doe, can give birth to several litters each year.\n",
       " Domestica', token_count=64, start_index=616, end_index=680),\n",
       " Chunk(text='omesticated rabbits have become popular pets due to their gentle', token_count=64, start_index=672, end_index=736),\n",
       " Chunk(text='r gentle nature and ease of care. They require a balanced diet, ', token_count=64, start_index=728, end_index=792),\n",
       " Chunk(text='d diet, regular exercise, and social interaction to thrive. Groo', token_count=64, start_index=784, end_index=848),\n",
       " Chunk(text='ve. Grooming is important to prevent matting, especially in long', token_count=64, start_index=840, end_index=904),\n",
       " Chunk(text=' in long-haired breeds. Owners should also provide safe environm', token_count=64, start_index=896, end_index=960),\n",
       " Chunk(text='environments free from hazards.\n",
       " Rabbits play an important role i', token_count=64, start_index=952, end_index=1016),\n",
       " Chunk(text='t role in ecosystems as prey for many predators, including foxes', token_count=64, start_index=1008, end_index=1072),\n",
       " Chunk(text='ng foxes, hawks, and owls. They also contribute to soil health t', token_count=64, start_index=1064, end_index=1128),\n",
       " Chunk(text='health through their digging activities, which aerate the soil a', token_count=64, start_index=1120, end_index=1184),\n",
       " Chunk(text='e soil and help with plant growth. In some regions, however, int', token_count=64, start_index=1176, end_index=1240),\n",
       " Chunk(text='ver, introduced rabbit populations have become invasive, causing', token_count=64, start_index=1232, end_index=1296),\n",
       " Chunk(text=' causing damage to crops and native vegetation.\n",
       " Interestingly, r', token_count=64, start_index=1288, end_index=1352),\n",
       " Chunk(text='ingly, rabbits have a unique digestive system that allows them t', token_count=64, start_index=1344, end_index=1408),\n",
       " Chunk(text='s them to reingest certain types of droppings, called cecotropes', token_count=64, start_index=1400, end_index=1464),\n",
       " Chunk(text='cotropes, to extract additional nutrients. This behavior, known ', token_count=64, start_index=1456, end_index=1520),\n",
       " Chunk(text=', known as coprophagy, is essential for their health.\n",
       " Overall, r', token_count=64, start_index=1512, end_index=1576),\n",
       " Chunk(text='erall, rabbits are fascinating creatures with complex behaviors ', token_count=64, start_index=1568, end_index=1632),\n",
       " Chunk(text='haviors and adaptations that have allowed them to thrive in dive', token_count=64, start_index=1624, end_index=1688),\n",
       " Chunk(text=' in diverse environments.\n",
       " ', token_count=26, start_index=1680, end_index=1706)]"
      ]
     },
     "execution_count": 2,
     "metadata": {},
     "output_type": "execute_result"
    }
   ],
   "source": [
    "from chonkie import TokenChunker\n",
    "\n",
    "tc = TokenChunker(chunk_size=64, chunk_overlap=8)\n",
    "tc.chunk(sample_text)"
   ]
  },
  {
   "cell_type": "code",
   "execution_count": 5,
   "id": "70dca75a",
   "metadata": {},
   "outputs": [
    {
     "data": {
      "text/plain": [
       "[SentenceChunk(text=\n",
       " Rabbits are small mammals known for their long ears, fluffy tails, and strong hind legs. , start_index=0, end_index=90, token_count=90, sentences=[Sentence(text=\n",
       " Rabbits are small mammals known for their long ears, fluffy tails, and strong hind legs. , start_index=0, end_index=90, token_count=90)]),\n",
       " SentenceChunk(text=They belong to the family Leporidae and are found in many parts of the world. , start_index=90, end_index=168, token_count=78, sentences=[Sentence(text=They belong to the family Leporidae and are found in many parts of the world. , start_index=90, end_index=168, token_count=78)]),\n",
       " SentenceChunk(text=Rabbits are herbivores, feeding mainly on grasses, leaves, and vegetables. , start_index=168, end_index=243, token_count=75, sentences=[Sentence(text=Rabbits are herbivores, feeding mainly on grasses, leaves, and vegetables. , start_index=168, end_index=243, token_count=75)]),\n",
       " SentenceChunk(text=Their diet is rich in fiber, which helps maintain their digestive health.\n",
       " , start_index=243, end_index=317, token_count=74, sentences=[Sentence(text=Their diet is rich in fiber, which helps maintain their digestive health.\n",
       " , start_index=243, end_index=317, token_count=74)]),\n",
       " SentenceChunk(text=In the wild, rabbits live in burrows called warrens, which provide protection from predators and harsh weather. , start_index=317, end_index=429, token_count=112, sentences=[Sentence(text=In the wild, rabbits live in burrows called warrens, which provide protection from predators and harsh weather. , start_index=317, end_index=429, token_count=112)]),\n",
       " SentenceChunk(text=These social animals communicate through various vocalizations, body language, and scent marking. , start_index=429, end_index=527, token_count=98, sentences=[Sentence(text=These social animals communicate through various vocalizations, body language, and scent marking. , start_index=429, end_index=527, token_count=98)]),\n",
       " SentenceChunk(text=Rabbits are also known for their impressive reproductive abilities; a female rabbit, called a doe, can give birth to several litters each year.\n",
       " , start_index=527, end_index=671, token_count=144, sentences=[Sentence(text=Rabbits are also known for their impressive reproductive abilities; a female rabbit, called a doe, can give birth to several litters each year.\n",
       " , start_index=527, end_index=671, token_count=144)]),\n",
       " SentenceChunk(text=Domesticated rabbits have become popular pets due to their gentle nature and ease of care. , start_index=671, end_index=762, token_count=91, sentences=[Sentence(text=Domesticated rabbits have become popular pets due to their gentle nature and ease of care. , start_index=671, end_index=762, token_count=91)]),\n",
       " SentenceChunk(text=They require a balanced diet, regular exercise, and social interaction to thrive. , start_index=762, end_index=844, token_count=82, sentences=[Sentence(text=They require a balanced diet, regular exercise, and social interaction to thrive. , start_index=762, end_index=844, token_count=82)]),\n",
       " SentenceChunk(text=Grooming is important to prevent matting, especially in long-haired breeds. , start_index=844, end_index=920, token_count=76, sentences=[Sentence(text=Grooming is important to prevent matting, especially in long-haired breeds. , start_index=844, end_index=920, token_count=76)]),\n",
       " SentenceChunk(text=Owners should also provide safe environments free from hazards.\n",
       " , start_index=920, end_index=984, token_count=64, sentences=[Sentence(text=Owners should also provide safe environments free from hazards.\n",
       " , start_index=920, end_index=984, token_count=64)]),\n",
       " SentenceChunk(text=Rabbits play an important role in ecosystems as prey for many predators, including foxes, hawks, and owls. , start_index=984, end_index=1091, token_count=107, sentences=[Sentence(text=Rabbits play an important role in ecosystems as prey for many predators, including foxes, hawks, and owls. , start_index=984, end_index=1091, token_count=107)]),\n",
       " SentenceChunk(text=They also contribute to soil health through their digging activities, which aerate the soil and help with plant growth. , start_index=1091, end_index=1211, token_count=120, sentences=[Sentence(text=They also contribute to soil health through their digging activities, which aerate the soil and help with plant growth. , start_index=1091, end_index=1211, token_count=120)]),\n",
       " SentenceChunk(text=In some regions, however, introduced rabbit populations have become invasive, causing damage to crops and native vegetation.\n",
       " , start_index=1211, end_index=1336, token_count=125, sentences=[Sentence(text=In some regions, however, introduced rabbit populations have become invasive, causing damage to crops and native vegetation.\n",
       " , start_index=1211, end_index=1336, token_count=125)]),\n",
       " SentenceChunk(text=Interestingly, rabbits have a unique digestive system that allows them to reingest certain types of droppings, called cecotropes, to extract additional nutrients. , start_index=1336, end_index=1499, token_count=163, sentences=[Sentence(text=Interestingly, rabbits have a unique digestive system that allows them to reingest certain types of droppings, called cecotropes, to extract additional nutrients. , start_index=1336, end_index=1499, token_count=163)]),\n",
       " SentenceChunk(text=This behavior, known as coprophagy, is essential for their health.\n",
       " , start_index=1499, end_index=1566, token_count=67, sentences=[Sentence(text=This behavior, known as coprophagy, is essential for their health.\n",
       " , start_index=1499, end_index=1566, token_count=67)]),\n",
       " SentenceChunk(text=Overall, rabbits are fascinating creatures with complex behaviors and adaptations that have allowed them to thrive in diverse environments.\n",
       " , start_index=1566, end_index=1706, token_count=140, sentences=[Sentence(text=Overall, rabbits are fascinating creatures with complex behaviors and adaptations that have allowed them to thrive in diverse environments.\n",
       " , start_index=1566, end_index=1706, token_count=140)])]"
      ]
     },
     "execution_count": 5,
     "metadata": {},
     "output_type": "execute_result"
    }
   ],
   "source": [
    "from chonkie import SentenceChunker\n",
    "sc = SentenceChunker(chunk_size=64, chunk_overlap=8)\n",
    "sc.chunk(sample_text)"
   ]
  },
  {
   "cell_type": "code",
   "execution_count": 4,
   "id": "cf66b44f",
   "metadata": {},
   "outputs": [
    {
     "ename": "NameError",
     "evalue": "name 'np' is not defined",
     "output_type": "error",
     "traceback": [
      "\u001b[0;31m---------------------------------------------------------------------------\u001b[0m",
      "\u001b[0;31mNameError\u001b[0m                                 Traceback (most recent call last)",
      "Cell \u001b[0;32mIn[4], line 11\u001b[0m\n\u001b[1;32m      9\u001b[0m chonkie_embedder\u001b[38;5;241m=\u001b[39mChonkieEmbeddingWrapper(embedder\u001b[38;5;241m=\u001b[39membedder)\n\u001b[1;32m     10\u001b[0m sec \u001b[38;5;241m=\u001b[39m SemanticChunker(embedding_model\u001b[38;5;241m=\u001b[39mchonkie_embedder, chunk_size\u001b[38;5;241m=\u001b[39m\u001b[38;5;241m64\u001b[39m)\n\u001b[0;32m---> 11\u001b[0m \u001b[43msec\u001b[49m\u001b[38;5;241;43m.\u001b[39;49m\u001b[43mchunk\u001b[49m\u001b[43m(\u001b[49m\u001b[43msample_text\u001b[49m\u001b[43m)\u001b[49m\n",
      "File \u001b[0;32m~/Desktop/document-retriever/.venv/lib/python3.10/site-packages/chonkie/chunker/semantic.py:684\u001b[0m, in \u001b[0;36mchunk\u001b[0;34m(self, text)\u001b[0m\n\u001b[1;32m      0\u001b[0m <Error retrieving source code with stack_data see ipython/ipython#13598>\n",
      "File \u001b[0;32m~/Desktop/document-retriever/.venv/lib/python3.10/site-packages/chonkie/chunker/semantic.py:530\u001b[0m, in \u001b[0;36m_calculate_similarity_threshold\u001b[0;34m(self, sentences)\u001b[0m\n\u001b[1;32m      0\u001b[0m <Error retrieving source code with stack_data see ipython/ipython#13598>\n",
      "File \u001b[0;32m~/Desktop/document-retriever/.venv/lib/python3.10/site-packages/chonkie/chunker/semantic.py:453\u001b[0m, in \u001b[0;36m_calculate_threshold_via_binary_search\u001b[0;34m(self, sentences)\u001b[0m\n\u001b[1;32m      0\u001b[0m <Error retrieving source code with stack_data see ipython/ipython#13598>\n",
      "File \u001b[0;32m~/Desktop/document-retriever/.venv/lib/python3.10/site-packages/chonkie/chunker/semantic.py:398\u001b[0m, in \u001b[0;36m_compute_window_similarities\u001b[0;34m(self, sentences)\u001b[0m\n\u001b[1;32m    394\u001b[0m \u001b[38;5;28;01mif\u001b[39;00m sentence_embedding \u001b[38;5;129;01mis\u001b[39;00m \u001b[38;5;28;01mNone\u001b[39;00m:\n\u001b[1;32m    395\u001b[0m     \u001b[38;5;28;01mraise\u001b[39;00m \u001b[38;5;167;01mValueError\u001b[39;00m(\u001b[38;5;124m\"\u001b[39m\u001b[38;5;124mSentence embedding is None\u001b[39m\u001b[38;5;124m\"\u001b[39m)\n\u001b[1;32m    396\u001b[0m similarities\u001b[38;5;241m.\u001b[39mappend(\n\u001b[1;32m    397\u001b[0m     \u001b[38;5;28mself\u001b[39m\u001b[38;5;241m.\u001b[39m_get_semantic_similarity(window_embedding, sentence_embedding)\n\u001b[0;32m--> 398\u001b[0m )\n\u001b[1;32m    400\u001b[0m \u001b[38;5;66;03m# Update the window embedding\u001b[39;00m\n\u001b[1;32m    401\u001b[0m \u001b[38;5;28;01mif\u001b[39;00m \u001b[38;5;28mlen\u001b[39m(current_sentence_window) \u001b[38;5;241m<\u001b[39m \u001b[38;5;28mself\u001b[39m\u001b[38;5;241m.\u001b[39msimilarity_window:\n",
      "File \u001b[0;32m~/Desktop/document-retriever/.venv/lib/python3.10/site-packages/chonkie/chunker/semantic.py:356\u001b[0m, in \u001b[0;36m_get_semantic_similarity\u001b[0;34m(self, embedding1, embedding2)\u001b[0m\n\u001b[1;32m    354\u001b[0m \u001b[38;5;250m\u001b[39m\u001b[38;5;124;03m\"\"\"Compute cosine similarity between two embeddings.\"\"\"\u001b[39;00m\n\u001b[1;32m    355\u001b[0m similarity \u001b[38;5;241m=\u001b[39m \u001b[38;5;28mself\u001b[39m\u001b[38;5;241m.\u001b[39membedding_model\u001b[38;5;241m.\u001b[39msimilarity(embedding1, embedding2)\n\u001b[0;32m--> 356\u001b[0m \u001b[38;5;28;01mreturn\u001b[39;00m \u001b[38;5;28mfloat\u001b[39m(similarity)\n",
      "File \u001b[0;32m~/Desktop/document-retriever/.venv/lib/python3.10/site-packages/chonkie/embeddings/base.py:96\u001b[0m, in \u001b[0;36mBaseEmbeddings.similarity\u001b[0;34m(self, u, v)\u001b[0m\n\u001b[1;32m     80\u001b[0m \u001b[38;5;28;01mdef\u001b[39;00m\u001b[38;5;250m \u001b[39m\u001b[38;5;21msimilarity\u001b[39m(\u001b[38;5;28mself\u001b[39m, u: \u001b[38;5;124m\"\u001b[39m\u001b[38;5;124mnp.ndarray\u001b[39m\u001b[38;5;124m\"\u001b[39m, v: \u001b[38;5;124m\"\u001b[39m\u001b[38;5;124mnp.ndarray\u001b[39m\u001b[38;5;124m\"\u001b[39m) \u001b[38;5;241m-\u001b[39m\u001b[38;5;241m>\u001b[39m \u001b[38;5;124m\"\u001b[39m\u001b[38;5;124mnp.float32\u001b[39m\u001b[38;5;124m\"\u001b[39m:\n\u001b[1;32m     81\u001b[0m \u001b[38;5;250m    \u001b[39m\u001b[38;5;124;03m\"\"\"Compute the similarity between two embeddings.\u001b[39;00m\n\u001b[1;32m     82\u001b[0m \n\u001b[1;32m     83\u001b[0m \u001b[38;5;124;03m    Most embeddings models will use cosine similarity for this purpose. However,\u001b[39;00m\n\u001b[0;32m   (...)\u001b[0m\n\u001b[1;32m     94\u001b[0m \n\u001b[1;32m     95\u001b[0m \u001b[38;5;124;03m    \"\"\"\u001b[39;00m\n\u001b[0;32m---> 96\u001b[0m     \u001b[38;5;28;01mreturn\u001b[39;00m \u001b[43mnp\u001b[49m\u001b[38;5;241m.\u001b[39mfloat32(np\u001b[38;5;241m.\u001b[39mdot(u, v\u001b[38;5;241m.\u001b[39mT) \u001b[38;5;241m/\u001b[39m (np\u001b[38;5;241m.\u001b[39mlinalg\u001b[38;5;241m.\u001b[39mnorm(u) \u001b[38;5;241m*\u001b[39m np\u001b[38;5;241m.\u001b[39mlinalg\u001b[38;5;241m.\u001b[39mnorm(v)))\n",
      "\u001b[0;31mNameError\u001b[0m: name 'np' is not defined"
     ]
    }
   ],
   "source": [
    "from chonkie.chunker.semantic import SemanticChunker\n",
    "import sys\n",
    "import numpy as np\n",
    "sys.path.append(\"..\")\n",
    "from src.core.embeddings.algorithms import HFDenseTextEmbeddingsGenerator\n",
    "from src.core.embeddings.wrapper import ChonkieEmbeddingWrapper\n",
    "\n",
    "embedder = HFDenseTextEmbeddingsGenerator(model_name=\"intfloat/multilingual-e5-small\", dim=384)\n",
    "chonkie_embedder=ChonkieEmbeddingWrapper(embedder=embedder)\n",
    "sec = SemanticChunker(embedding_model=chonkie_embedder, chunk_size=64)\n",
    "sec.chunk(sample_text)"
   ]
  },
  {
   "cell_type": "code",
   "execution_count": 5,
   "id": "b4504bea",
   "metadata": {},
   "outputs": [
    {
     "data": {
      "text/plain": [
       "'/home/alex/Desktop/document-retriever/.venv/lib/python3.10/site-packages/chonkie/cloud/chunker/semantic.py'"
      ]
     },
     "execution_count": 5,
     "metadata": {},
     "output_type": "execute_result"
    }
   ],
   "source": [
    "import chonkie.chunker.semantic\n",
    "chonkie.chunker.semantic.__file__\n"
   ]
  },
  {
   "cell_type": "code",
   "execution_count": null,
   "id": "dfe60031",
   "metadata": {},
   "outputs": [],
   "source": []
  }
 ],
 "metadata": {
  "kernelspec": {
   "display_name": "document-retriever",
   "language": "python",
   "name": "python3"
  },
  "language_info": {
   "codemirror_mode": {
    "name": "ipython",
    "version": 3
   },
   "file_extension": ".py",
   "mimetype": "text/x-python",
   "name": "python",
   "nbconvert_exporter": "python",
   "pygments_lexer": "ipython3",
   "version": "3.10.12"
  }
 },
 "nbformat": 4,
 "nbformat_minor": 5
}
