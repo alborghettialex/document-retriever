{
 "cells": [
  {
   "cell_type": "code",
   "execution_count": null,
   "id": "eb4568f3",
   "metadata": {},
   "outputs": [],
   "source": [
    "import sys\n",
    "sys.path.append(\"..\")\n",
    "from chonkie import TokenChunker, SentenceChunker, SemanticChunker\n",
    "from src.core.embeddings.algorithms import HFDenseTextEmbeddingsGenerator\n",
    "from src.core.embeddings.wrapper import ChonkieEmbeddingWrapper"
   ]
  },
  {
   "cell_type": "markdown",
   "id": "0f94318a",
   "metadata": {},
   "source": [
    "# Text chunking with Chonkie"
   ]
  },
  {
   "cell_type": "code",
   "execution_count": 1,
   "id": "6029f531",
   "metadata": {},
   "outputs": [],
   "source": [
    "sample_text = \"\"\"\n",
    "Rabbits are small mammals known for their long ears, fluffy tails, and strong hind legs. They belong to the family Leporidae and are found in many parts of the world. Rabbits are herbivores, feeding mainly on grasses, leaves, and vegetables. Their diet is rich in fiber, which helps maintain their digestive health.\n",
    "In the wild, rabbits live in burrows called warrens, which provide protection from predators and harsh weather. These social animals communicate through various vocalizations, body language, and scent marking. Rabbits are also known for their impressive reproductive abilities; a female rabbit, called a doe, can give birth to several litters each year.\n",
    "Domesticated rabbits have become popular pets due to their gentle nature and ease of care. They require a balanced diet, regular exercise, and social interaction to thrive. Grooming is important to prevent matting, especially in long-haired breeds. Owners should also provide safe environments free from hazards.\n",
    "Rabbits play an important role in ecosystems as prey for many predators, including foxes, hawks, and owls. They also contribute to soil health through their digging activities, which aerate the soil and help with plant growth. In some regions, however, introduced rabbit populations have become invasive, causing damage to crops and native vegetation.\n",
    "Interestingly, rabbits have a unique digestive system that allows them to reingest certain types of droppings, called cecotropes, to extract additional nutrients. This behavior, known as coprophagy, is essential for their health.\n",
    "Overall, rabbits are fascinating creatures with complex behaviors and adaptations that have allowed them to thrive in diverse environments.\n",
    "\"\"\""
   ]
  },
  {
   "cell_type": "markdown",
   "id": "ad97f50a",
   "metadata": {},
   "source": [
    "## Token Chunker"
   ]
  },
  {
   "cell_type": "code",
   "execution_count": null,
   "id": "9a013b61",
   "metadata": {},
   "outputs": [
    {
     "data": {
      "text/plain": [
       "[Chunk(text='\n",
       " Rabbits are small mammals known for their long ears, fluffy tai', token_count=64, start_index=0, end_index=64),\n",
       " Chunk(text='uffy tails, and strong hind legs. They belong to the family Lepo', token_count=64, start_index=56, end_index=120),\n",
       " Chunk(text='ily Leporidae and are found in many parts of the world. Rabbits ', token_count=64, start_index=112, end_index=176),\n",
       " Chunk(text='Rabbits are herbivores, feeding mainly on grasses, leaves, and v', token_count=64, start_index=168, end_index=232),\n",
       " Chunk(text='s, and vegetables. Their diet is rich in fiber, which helps main', token_count=64, start_index=224, end_index=288),\n",
       " Chunk(text='lps maintain their digestive health.\n",
       " In the wild, rabbits live i', token_count=64, start_index=280, end_index=344),\n",
       " Chunk(text='s live in burrows called warrens, which provide protection from ', token_count=64, start_index=336, end_index=400),\n",
       " Chunk(text='on from predators and harsh weather. These social animals commun', token_count=64, start_index=392, end_index=456),\n",
       " Chunk(text='s communicate through various vocalizations, body language, and ', token_count=64, start_index=448, end_index=512),\n",
       " Chunk(text='ge, and scent marking. Rabbits are also known for their impressi', token_count=64, start_index=504, end_index=568),\n",
       " Chunk(text='impressive reproductive abilities; a female rabbit, called a doe', token_count=64, start_index=560, end_index=624),\n",
       " Chunk(text='ed a doe, can give birth to several litters each year.\n",
       " Domestica', token_count=64, start_index=616, end_index=680),\n",
       " Chunk(text='omesticated rabbits have become popular pets due to their gentle', token_count=64, start_index=672, end_index=736),\n",
       " Chunk(text='r gentle nature and ease of care. They require a balanced diet, ', token_count=64, start_index=728, end_index=792),\n",
       " Chunk(text='d diet, regular exercise, and social interaction to thrive. Groo', token_count=64, start_index=784, end_index=848),\n",
       " Chunk(text='ve. Grooming is important to prevent matting, especially in long', token_count=64, start_index=840, end_index=904),\n",
       " Chunk(text=' in long-haired breeds. Owners should also provide safe environm', token_count=64, start_index=896, end_index=960),\n",
       " Chunk(text='environments free from hazards.\n",
       " Rabbits play an important role i', token_count=64, start_index=952, end_index=1016),\n",
       " Chunk(text='t role in ecosystems as prey for many predators, including foxes', token_count=64, start_index=1008, end_index=1072),\n",
       " Chunk(text='ng foxes, hawks, and owls. They also contribute to soil health t', token_count=64, start_index=1064, end_index=1128),\n",
       " Chunk(text='health through their digging activities, which aerate the soil a', token_count=64, start_index=1120, end_index=1184),\n",
       " Chunk(text='e soil and help with plant growth. In some regions, however, int', token_count=64, start_index=1176, end_index=1240),\n",
       " Chunk(text='ver, introduced rabbit populations have become invasive, causing', token_count=64, start_index=1232, end_index=1296),\n",
       " Chunk(text=' causing damage to crops and native vegetation.\n",
       " Interestingly, r', token_count=64, start_index=1288, end_index=1352),\n",
       " Chunk(text='ingly, rabbits have a unique digestive system that allows them t', token_count=64, start_index=1344, end_index=1408),\n",
       " Chunk(text='s them to reingest certain types of droppings, called cecotropes', token_count=64, start_index=1400, end_index=1464),\n",
       " Chunk(text='cotropes, to extract additional nutrients. This behavior, known ', token_count=64, start_index=1456, end_index=1520),\n",
       " Chunk(text=', known as coprophagy, is essential for their health.\n",
       " Overall, r', token_count=64, start_index=1512, end_index=1576),\n",
       " Chunk(text='erall, rabbits are fascinating creatures with complex behaviors ', token_count=64, start_index=1568, end_index=1632),\n",
       " Chunk(text='haviors and adaptations that have allowed them to thrive in dive', token_count=64, start_index=1624, end_index=1688),\n",
       " Chunk(text=' in diverse environments.\n",
       " ', token_count=26, start_index=1680, end_index=1706)]"
      ]
     },
     "execution_count": 2,
     "metadata": {},
     "output_type": "execute_result"
    }
   ],
   "source": [
    "tc = TokenChunker(chunk_size=64, chunk_overlap=8)\n",
    "tc.chunk(sample_text)"
   ]
  },
  {
   "cell_type": "markdown",
   "id": "36ce53e7",
   "metadata": {},
   "source": [
    "## Sentence Chunker"
   ]
  },
  {
   "cell_type": "code",
   "execution_count": null,
   "id": "70dca75a",
   "metadata": {},
   "outputs": [
    {
     "data": {
      "text/plain": [
       "[SentenceChunk(text=\n",
       " Rabbits are small mammals known for their long ears, fluffy tails, and strong hind legs. , start_index=0, end_index=90, token_count=90, sentences=[Sentence(text=\n",
       " Rabbits are small mammals known for their long ears, fluffy tails, and strong hind legs. , start_index=0, end_index=90, token_count=90)]),\n",
       " SentenceChunk(text=They belong to the family Leporidae and are found in many parts of the world. , start_index=90, end_index=168, token_count=78, sentences=[Sentence(text=They belong to the family Leporidae and are found in many parts of the world. , start_index=90, end_index=168, token_count=78)]),\n",
       " SentenceChunk(text=Rabbits are herbivores, feeding mainly on grasses, leaves, and vegetables. , start_index=168, end_index=243, token_count=75, sentences=[Sentence(text=Rabbits are herbivores, feeding mainly on grasses, leaves, and vegetables. , start_index=168, end_index=243, token_count=75)]),\n",
       " SentenceChunk(text=Their diet is rich in fiber, which helps maintain their digestive health.\n",
       " , start_index=243, end_index=317, token_count=74, sentences=[Sentence(text=Their diet is rich in fiber, which helps maintain their digestive health.\n",
       " , start_index=243, end_index=317, token_count=74)]),\n",
       " SentenceChunk(text=In the wild, rabbits live in burrows called warrens, which provide protection from predators and harsh weather. , start_index=317, end_index=429, token_count=112, sentences=[Sentence(text=In the wild, rabbits live in burrows called warrens, which provide protection from predators and harsh weather. , start_index=317, end_index=429, token_count=112)]),\n",
       " SentenceChunk(text=These social animals communicate through various vocalizations, body language, and scent marking. , start_index=429, end_index=527, token_count=98, sentences=[Sentence(text=These social animals communicate through various vocalizations, body language, and scent marking. , start_index=429, end_index=527, token_count=98)]),\n",
       " SentenceChunk(text=Rabbits are also known for their impressive reproductive abilities; a female rabbit, called a doe, can give birth to several litters each year.\n",
       " , start_index=527, end_index=671, token_count=144, sentences=[Sentence(text=Rabbits are also known for their impressive reproductive abilities; a female rabbit, called a doe, can give birth to several litters each year.\n",
       " , start_index=527, end_index=671, token_count=144)]),\n",
       " SentenceChunk(text=Domesticated rabbits have become popular pets due to their gentle nature and ease of care. , start_index=671, end_index=762, token_count=91, sentences=[Sentence(text=Domesticated rabbits have become popular pets due to their gentle nature and ease of care. , start_index=671, end_index=762, token_count=91)]),\n",
       " SentenceChunk(text=They require a balanced diet, regular exercise, and social interaction to thrive. , start_index=762, end_index=844, token_count=82, sentences=[Sentence(text=They require a balanced diet, regular exercise, and social interaction to thrive. , start_index=762, end_index=844, token_count=82)]),\n",
       " SentenceChunk(text=Grooming is important to prevent matting, especially in long-haired breeds. , start_index=844, end_index=920, token_count=76, sentences=[Sentence(text=Grooming is important to prevent matting, especially in long-haired breeds. , start_index=844, end_index=920, token_count=76)]),\n",
       " SentenceChunk(text=Owners should also provide safe environments free from hazards.\n",
       " , start_index=920, end_index=984, token_count=64, sentences=[Sentence(text=Owners should also provide safe environments free from hazards.\n",
       " , start_index=920, end_index=984, token_count=64)]),\n",
       " SentenceChunk(text=Rabbits play an important role in ecosystems as prey for many predators, including foxes, hawks, and owls. , start_index=984, end_index=1091, token_count=107, sentences=[Sentence(text=Rabbits play an important role in ecosystems as prey for many predators, including foxes, hawks, and owls. , start_index=984, end_index=1091, token_count=107)]),\n",
       " SentenceChunk(text=They also contribute to soil health through their digging activities, which aerate the soil and help with plant growth. , start_index=1091, end_index=1211, token_count=120, sentences=[Sentence(text=They also contribute to soil health through their digging activities, which aerate the soil and help with plant growth. , start_index=1091, end_index=1211, token_count=120)]),\n",
       " SentenceChunk(text=In some regions, however, introduced rabbit populations have become invasive, causing damage to crops and native vegetation.\n",
       " , start_index=1211, end_index=1336, token_count=125, sentences=[Sentence(text=In some regions, however, introduced rabbit populations have become invasive, causing damage to crops and native vegetation.\n",
       " , start_index=1211, end_index=1336, token_count=125)]),\n",
       " SentenceChunk(text=Interestingly, rabbits have a unique digestive system that allows them to reingest certain types of droppings, called cecotropes, to extract additional nutrients. , start_index=1336, end_index=1499, token_count=163, sentences=[Sentence(text=Interestingly, rabbits have a unique digestive system that allows them to reingest certain types of droppings, called cecotropes, to extract additional nutrients. , start_index=1336, end_index=1499, token_count=163)]),\n",
       " SentenceChunk(text=This behavior, known as coprophagy, is essential for their health.\n",
       " , start_index=1499, end_index=1566, token_count=67, sentences=[Sentence(text=This behavior, known as coprophagy, is essential for their health.\n",
       " , start_index=1499, end_index=1566, token_count=67)]),\n",
       " SentenceChunk(text=Overall, rabbits are fascinating creatures with complex behaviors and adaptations that have allowed them to thrive in diverse environments.\n",
       " , start_index=1566, end_index=1706, token_count=140, sentences=[Sentence(text=Overall, rabbits are fascinating creatures with complex behaviors and adaptations that have allowed them to thrive in diverse environments.\n",
       " , start_index=1566, end_index=1706, token_count=140)])]"
      ]
     },
     "execution_count": 3,
     "metadata": {},
     "output_type": "execute_result"
    }
   ],
   "source": [
    "sc = SentenceChunker(chunk_size=64, chunk_overlap=8)\n",
    "sc.chunk(sample_text)"
   ]
  },
  {
   "cell_type": "markdown",
   "id": "797b95aa",
   "metadata": {},
   "source": [
    "## Semantic Chunker with custom model"
   ]
  },
  {
   "cell_type": "code",
   "execution_count": null,
   "id": "cf66b44f",
   "metadata": {},
   "outputs": [
    {
     "name": "stderr",
     "output_type": "stream",
     "text": [
      "/home/alex/Desktop/document-retriever/.venv/lib/python3.10/site-packages/tqdm/auto.py:21: TqdmWarning: IProgress not found. Please update jupyter and ipywidgets. See https://ipywidgets.readthedocs.io/en/stable/user_install.html\n",
      "  from .autonotebook import tqdm as notebook_tqdm\n",
      "None of PyTorch, TensorFlow >= 2.0, or Flax have been found. Models won't be available and only tokenizers, configuration and file/data utilities can be used.\n"
     ]
    },
    {
     "data": {
      "text/plain": [
       "[Chunk(text='\n",
       " Rabbits are small mammals known for their long ears, fluffy tails, and strong hind legs. They belong to the family Leporidae and are found in many parts of the world. ', token_count=45, start_index=0, end_index=168),\n",
       " Chunk(text='Rabbits are herbivores, feeding mainly on grasses, leaves, and vegetables. Their diet is rich in fiber, which helps maintain their digestive health.\n",
       " ', token_count=41, start_index=168, end_index=317),\n",
       " Chunk(text='In the wild, rabbits live in burrows called warrens, which provide protection from predators and harsh weather. ', token_count=28, start_index=317, end_index=429),\n",
       " Chunk(text='These social animals communicate through various vocalizations, body language, and scent marking. Rabbits are also known for their impressive reproductive abilities; a female rabbit, called a doe, can give birth to several litters each year.\n",
       " ', token_count=56, start_index=429, end_index=671),\n",
       " Chunk(text='Domesticated rabbits have become popular pets due to their gentle nature and ease of care. They require a balanced diet, regular exercise, and social interaction to thrive. ', token_count=43, start_index=671, end_index=844),\n",
       " Chunk(text='Grooming is important to prevent matting, especially in long-haired breeds. ', token_count=20, start_index=844, end_index=920),\n",
       " Chunk(text='Owners should also provide safe environments free from hazards.\n",
       " ', token_count=14, start_index=920, end_index=984),\n",
       " Chunk(text='Rabbits play an important role in ecosystems as prey for many predators, including foxes, hawks, and owls. They also contribute to soil health through their digging activities, which aerate the soil and help with plant growth. ', token_count=60, start_index=984, end_index=1211),\n",
       " Chunk(text='In some regions, however, introduced rabbit populations have become invasive, causing damage to crops and native vegetation.\n",
       " ', token_count=30, start_index=1211, end_index=1336),\n",
       " Chunk(text='Interestingly, rabbits have a unique digestive system that allows them to reingest certain types of droppings, called cecotropes, to extract additional nutrients. ', token_count=39, start_index=1336, end_index=1499),\n",
       " Chunk(text='This behavior, known as coprophagy, is essential for their health.\n",
       " Overall, rabbits are fascinating creatures with complex behaviors and adaptations that have allowed them to thrive in diverse environments.\n",
       " ', token_count=49, start_index=1499, end_index=1706)]"
      ]
     },
     "execution_count": 4,
     "metadata": {},
     "output_type": "execute_result"
    }
   ],
   "source": [
    "embedder = HFDenseTextEmbeddingsGenerator(model_name=\"intfloat/multilingual-e5-small\", dim=384)\n",
    "chonkie_embedder=ChonkieEmbeddingWrapper(embedder=embedder)\n",
    "sec = SemanticChunker(embedding_model=chonkie_embedder, chunk_size=64)\n",
    "sec.chunk(sample_text)"
   ]
  }
 ],
 "metadata": {
  "kernelspec": {
   "display_name": "document-retriever",
   "language": "python",
   "name": "python3"
  },
  "language_info": {
   "codemirror_mode": {
    "name": "ipython",
    "version": 3
   },
   "file_extension": ".py",
   "mimetype": "text/x-python",
   "name": "python",
   "nbconvert_exporter": "python",
   "pygments_lexer": "ipython3",
   "version": "3.10.12"
  }
 },
 "nbformat": 4,
 "nbformat_minor": 5
}
